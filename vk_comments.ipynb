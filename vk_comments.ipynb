{
 "cells": [
  {
   "cell_type": "code",
   "execution_count": 185,
   "id": "cee958cd",
   "metadata": {},
   "outputs": [],
   "source": [
    "import vk_api\n",
    "import random\n",
    "import time\n",
    "from vk_api.utils import get_random_id"
   ]
  },
  {
   "cell_type": "code",
   "execution_count": 196,
   "id": "b93508b2",
   "metadata": {},
   "outputs": [],
   "source": [
    "vk_session = vk_api.VkApi('+38067000001', 'password')\n",
    "vk_session.auth()\n",
    "\n",
    "vk = vk_session.get_api()"
   ]
  },
  {
   "cell_type": "code",
   "execution_count": 205,
   "id": "6e39c029",
   "metadata": {},
   "outputs": [],
   "source": [
    "access_token = 'e07c6c48fcfc1c1ef512347af441126b2b49cbcba3asdff9c81a489ca82d1ba05e5c313886e8cc93d6'"
   ]
  },
  {
   "cell_type": "code",
   "execution_count": 234,
   "id": "2ba9cb0a",
   "metadata": {},
   "outputs": [],
   "source": [
    "wall_ids = [\n",
    "    -118104170\n",
    "]\n",
    "short_names = [\n",
    "    'top_novostnoy',\n",
    "    'solovievlive',\n",
    "    'kps63',\n",
    "    'bbc',\n",
    "    'chto_u_hohlyh',\n",
    "    'plan_vospitatela',\n",
    "    'a_karaulov',\n",
    "    'union_fsin',\n",
    "    'public186938974',\n",
    "    'taginfo',\n",
    "    'besedka_vos',\n",
    "    'fsb_overhear',\n",
    "    'lkreml',\n",
    "    'c',\n",
    "    'putin_govorit',\n",
    "]\n",
    "\n",
    "c = [\n",
    "    ('Потери Русских военных на теретории Украины. Остановите кровавый режим Путина!', 'photo711016428_457239033'),\n",
    "    ('В 4:20 утра Россия напала на Украину. Такого ножа в спину от «братьев славян» не ожидал никто!\\nНо мы выстояли и стали сильнее!! За нами Правда. Победа тоже будет за нами! 🇺🇦💪', ''),\n",
    "]"
   ]
  },
  {
   "cell_type": "code",
   "execution_count": 230,
   "id": "f883f834",
   "metadata": {},
   "outputs": [
    {
     "name": "stdout",
     "output_type": "stream",
     "text": [
      "Short names loaded, total 32\n"
     ]
    }
   ],
   "source": [
    "#конвертация коротких имен в ID\n",
    "before_walls_len = len(wall_ids)\n",
    "for name in short_names:\n",
    "    try:\n",
    "        group = vk.groups.getById(group_id=name)\n",
    "        wall_ids += [-group[0]['id']]\n",
    "    except:\n",
    "        pass\n",
    "loaded_len = len(wall_ids) - before_walls_len\n",
    "print(f'Short names loaded, total {loaded_len}')"
   ]
  },
  {
   "cell_type": "code",
   "execution_count": 231,
   "id": "4920df60",
   "metadata": {},
   "outputs": [],
   "source": [
    "#подписываемся на сообщества\n",
    "for wall_id in wall_ids:\n",
    "    try:\n",
    "        vk.groups.join(group_id=wall_id * -1) #почему то здесь апишка трубует id без минуса для сообщества\n",
    "        delay = random.randint(3, 9) #искуственная задержка, рандомная, прикидываемся человеком\n",
    "        time.sleep(delay)\n",
    "    except:\n",
    "        pass\n"
   ]
  },
  {
   "cell_type": "raw",
   "id": "8d8dea39",
   "metadata": {},
   "source": [
    "#disabled by default, y to eanble, r to disable\n",
    "user_id = 711016428\n",
    "for wall_id in wall_ids:\n",
    "    result = vk.groups.isMember(group_id=wall_id * -1, user_id=user_id)\n",
    "    print(f'wall id: {wall_id} is subs: {result}')"
   ]
  },
  {
   "cell_type": "code",
   "execution_count": 232,
   "id": "f32bb2ca",
   "metadata": {},
   "outputs": [
    {
     "name": "stdout",
     "output_type": "stream",
     "text": [
      "Posts loading done, total: 138\n"
     ]
    }
   ],
   "source": [
    "#загружаем посты\n",
    "posts = []\n",
    "for wall_id in wall_ids:\n",
    "    try:\n",
    "        number_posts_to_load = random.randint(3, 6)\n",
    "        wall = vk.wall.get(owner_id=wall_id, count=number_posts_to_load)\n",
    "        for post in wall['items']:\n",
    "            posts += [(wall_id, post['id'])] # сохраняем пары (id стены, id поста) для дальнейшей публикации\n",
    "    except:\n",
    "        pass\n",
    "        \n",
    "random.shuffle(posts)\n",
    "\n",
    "print(f'Posts loading done, total: {len(posts)}')"
   ]
  },
  {
   "cell_type": "code",
   "execution_count": 233,
   "id": "538c1679",
   "metadata": {},
   "outputs": [
    {
     "name": "stdout",
     "output_type": "stream",
     "text": [
      "Comments are sent!\n"
     ]
    }
   ],
   "source": [
    "#комментируем\n",
    "for post in posts:\n",
    "    message = random.choice(messages) #берем случаное сообщение, чтобы не забанили за спам одного и того же\n",
    "    try:\n",
    "        text = message[0]\n",
    "        attachment = message[1]\n",
    "        if len(attachment) > 0:\n",
    "            vk.wall.createComment(access_token=access_token, owner_id=post[0], post_id=post[1], message=text, attachments=attachment)\n",
    "        else:\n",
    "            vk.wall.createComment(access_token=access_token, owner_id=post[0], post_id=post[1], message=text)\n",
    "            \n",
    "        delay = random.randint(3, 9) #искуственная задержка, рандомная, прикидываемся человеком\n",
    "    except:\n",
    "        pass\n",
    "    time.sleep(delay)\n",
    "print('Comments are sent!')"
   ]
  },
  {
   "cell_type": "code",
   "execution_count": null,
   "id": "a099edce",
   "metadata": {},
   "outputs": [],
   "source": []
  }
 ],
 "metadata": {
  "kernelspec": {
   "display_name": "Python 3 (ipykernel)",
   "language": "python",
   "name": "python3"
  },
  "language_info": {
   "codemirror_mode": {
    "name": "ipython",
    "version": 3
   },
   "file_extension": ".py",
   "mimetype": "text/x-python",
   "name": "python",
   "nbconvert_exporter": "python",
   "pygments_lexer": "ipython3",
   "version": "3.9.7"
  }
 },
 "nbformat": 4,
 "nbformat_minor": 5
}
